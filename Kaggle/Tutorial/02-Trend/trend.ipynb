{
 "cells": [
  {
   "cell_type": "code",
   "execution_count": 5,
   "metadata": {},
   "outputs": [],
   "source": [
    "import pandas as pd\n",
    "import matplotlib.pyplot as plt\n",
    "import numpy as np\n",
    "import seaborn as sns\n",
    "from sklearn.linear_model import LinearRegression"
   ]
  },
  {
   "cell_type": "code",
   "execution_count": 6,
   "metadata": {},
   "outputs": [],
   "source": [
    "retail_sales = pd.read_csv(\n",
    "    'us-retail-sales.csv',\n",
    "    parse_dates=['Month'],\n",
    "    index_col='Month',\n",
    ").to_period('D')\n",
    "food_sales = retail_sales.loc[:, 'FoodAndBeverage']\n",
    "auto_sales = retail_sales.loc[:, 'Automobiles']\n",
    "\n",
    "dtype = {\n",
    "    'store_nbr': 'category',\n",
    "    'family': 'category',\n",
    "    'sales': 'float32',\n",
    "    'onpromotion': 'uint64',\n",
    "}\n",
    "store_sales = pd.read_csv(\n",
    "    'train.csv',\n",
    "    dtype=dtype,\n",
    "    parse_dates=['date'],\n",
    "    infer_datetime_format=True,\n",
    ")\n",
    "store_sales = store_sales.set_index('date').to_period('D')\n",
    "store_sales = store_sales.set_index(['store_nbr', 'family'], append=True)\n",
    "average_sales = store_sales.groupby('date').mean()['sales']"
   ]
  },
  {
   "cell_type": "markdown",
   "metadata": {},
   "source": [
    "<h3>1) Determine trend with a moving average plot</h3>\n",
    "\n",
    "The US Retail Sales dataset contains monthly sales data for a number of retail industries in the United States. Run the next cell to see a plot of the Food and Beverage series."
   ]
  },
  {
   "cell_type": "code",
   "execution_count": null,
   "metadata": {},
   "outputs": [],
   "source": []
  }
 ],
 "metadata": {
  "kernelspec": {
   "display_name": "Python 3",
   "language": "python",
   "name": "python3"
  },
  "language_info": {
   "codemirror_mode": {
    "name": "ipython",
    "version": 3
   },
   "file_extension": ".py",
   "mimetype": "text/x-python",
   "name": "python",
   "nbconvert_exporter": "python",
   "pygments_lexer": "ipython3",
   "version": "3.11.7"
  }
 },
 "nbformat": 4,
 "nbformat_minor": 2
}
